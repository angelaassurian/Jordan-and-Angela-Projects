{
 "cells": [
  {
   "cell_type": "code",
   "execution_count": 1,
   "id": "914b3d4c",
   "metadata": {},
   "outputs": [
    {
     "name": "stdout",
     "output_type": "stream",
     "text": [
      "Enter the first name:jordan\n",
      "Enter the second name:angela\n",
      "jordangela\n"
     ]
    }
   ],
   "source": [
    "name1=input(\"Enter the first name:\")\n",
    "name2=input(\"Enter the second name:\")\n",
    "n1=name1[0:4]\n",
    "print(n1+name2)"
   ]
  }
 ],
 "metadata": {
  "kernelspec": {
   "display_name": "Python 3 (ipykernel)",
   "language": "python",
   "name": "python3"
  },
  "language_info": {
   "codemirror_mode": {
    "name": "ipython",
    "version": 3
   },
   "file_extension": ".py",
   "mimetype": "text/x-python",
   "name": "python",
   "nbconvert_exporter": "python",
   "pygments_lexer": "ipython3",
   "version": "3.9.7"
  }
 },
 "nbformat": 4,
 "nbformat_minor": 5
}
