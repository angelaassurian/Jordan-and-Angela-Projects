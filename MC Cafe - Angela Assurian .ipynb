{
 "cells": [
  {
   "cell_type": "raw",
   "id": "fad63b7d",
   "metadata": {},
   "source": [
    "Your instructors love coffee so much that they decided to open a cafe! Of course, we will need the help of our students to develop the ordering app that the customers can use.\n",
    "\n",
    "On the cafe menu, there are three categories for the items we sell - coffee, tea, and pastries.\n",
    "\n",
    "Coffee\n",
    "Espresso - $1.50\n",
    "Americano - $2.00\n",
    "Caffe latte - $2.25\n",
    "Mocha - $2.25\n",
    "Cappucino - $2.50\n",
    "Macchiato - $2.50\n",
    "Tea\n",
    "White tea - $1.50\n",
    "Green tea - $2.00\n",
    "Oolong tea - $2.25\n",
    "Black tea - $2.25\n",
    "Earl Grey - $2.50\n",
    "Matcha - $2.50\n",
    "Pastries\n",
    "Croissant - $5.50\n",
    "Cinnamon roll - $4.50\n",
    "Banana bread - $4.25\n",
    "Pumpkin bread - $3.75\n",
    "Sticky bun - $4.25\n",
    "Apple turnover - $3.75\n",
    "When your program first starts, you must greet the customers by saying, \"Welcome to MC Cafe!\" Then ask the customer if they would like to see the menu. If yes, then display the menu items and prices.\n",
    "\n",
    "Then ask the user if they would like to order. If yes, then prompt the customer to enter an item and the quantity that they want. After they input an item, then ask them if they would like to order another item.\n",
    "\n",
    "Once your customers are finished with the order input, then display an order receipt that lists the items that they ordered and the quantity. Then at the bottom of the receipt, display the subtotal (the amount of the item before tax), the amount in sales tax (our business is in Maryland, so state tax is 6%), and finally their grand total (subtotal plus sales tax).\n",
    "\n",
    "At the end of their transaction, display a message to our customers saying, \"Thank you for visiting MC Cafe!\"\n",
    "\n",
    "BONUS: Add a feature that tells a customer when an item they attempted to order is not on the menu.\n",
    "\n",
    "\n"
   ]
  },
  {
   "cell_type": "markdown",
   "id": "22f046ae",
   "metadata": {},
   "source": [
    "### Notes on How to do problem \n",
    "\n",
    "name of products: strings. prices are integers. can make dictionries of the prices and the items \n",
    "\n",
    "if command to test values ...if they wanna order, prompt to enter an item in the quantity. if they ask for something now on the list, ask them again!\n",
    "\n",
    "keep track of what they order... lists, dictionary, list of dictionary dictionary of list? options\n",
    "\n",
    "when customer finished, display receipt. loop through and print every item ordered. then accumulate the total amount \n",
    "\n",
    "state tax for extra points??\n",
    "\n",
    "extra feature/bonus!: tell item that is not on a menu. "
   ]
  },
  {
   "cell_type": "code",
   "execution_count": 4,
   "id": "6d27439c",
   "metadata": {},
   "outputs": [
    {
     "name": "stdout",
     "output_type": "stream",
     "text": [
      "{'Espresso': 1.5, 'Americano': 2.0, 'Caffe latte': 2.25, 'Mocha': 2.25, 'Cappucino': 2.5, 'Macchiato': 2.5}\n"
     ]
    }
   ],
   "source": [
    "coffee = {\"Espresso\" : 1.50, \"Americano\" : 2.00, \"Caffe latte\" : 2.25, \"Mocha\" : 2.25, \"Cappucino\" : 2.50, \"Macchiato\" : 2.50 }\n",
    "print(coffee)"
   ]
  },
  {
   "cell_type": "code",
   "execution_count": 1,
   "id": "efaa8268",
   "metadata": {},
   "outputs": [
    {
     "name": "stdout",
     "output_type": "stream",
     "text": [
      "{'White tea': 1.5, 'Green tea': 2.0, 'Oolong tea': 2.25, 'Black tea': 2.25, 'Earl Grey': 2.5, 'Matcha': 2.5}\n"
     ]
    }
   ],
   "source": [
    "tea = {\"White tea\" : 1.50, \"Green tea\" : 2.00, \"Oolong tea\" : 2.25, \"Black tea\" : 2.25, \"Earl Grey\" : 2.50, \"Matcha\" : 2.50}\n",
    "print(tea)"
   ]
  },
  {
   "cell_type": "code",
   "execution_count": 2,
   "id": "f0a9c918",
   "metadata": {},
   "outputs": [
    {
     "name": "stdout",
     "output_type": "stream",
     "text": [
      "{'Croissant': 5.5, 'Cinnamon roll': 4.5, 'Banana bread': 4.25, 'Pumpkin bread': 3.75, 'Sticky bun': 4.25, 'Apple turnover': 3.75}\n"
     ]
    }
   ],
   "source": [
    "pastries = {\"Croissant\" : 5.50, \"Cinnamon roll\" : 4.50, \"Banana bread\" : 4.25, \"Pumpkin bread\" : 3.75, \"Sticky bun\" : 4.25, \"Apple turnover\" : 3.75}\n",
    "print(pastries)"
   ]
  },
  {
   "cell_type": "code",
   "execution_count": 5,
   "id": "5a290359",
   "metadata": {},
   "outputs": [
    {
     "name": "stdout",
     "output_type": "stream",
     "text": [
      "[{'Espresso': 1.5, 'Americano': 2.0, 'Caffe latte': 2.25, 'Mocha': 2.25, 'Cappucino': 2.5, 'Macchiato': 2.5}, {'White tea': 1.5, 'Green tea': 2.0, 'Oolong tea': 2.25, 'Black tea': 2.25, 'Earl Grey': 2.5, 'Matcha': 2.5}, {'Croissant': 5.5, 'Cinnamon roll': 4.5, 'Banana bread': 4.25, 'Pumpkin bread': 3.75, 'Sticky bun': 4.25, 'Apple turnover': 3.75}]\n"
     ]
    }
   ],
   "source": [
    "all_menu_items=[coffee, tea, pastries]\n",
    "print(all_menu_items)"
   ]
  },
  {
   "cell_type": "code",
   "execution_count": 6,
   "id": "cd687e59",
   "metadata": {},
   "outputs": [
    {
     "name": "stdout",
     "output_type": "stream",
     "text": [
      "\n",
      "Coffee...\n",
      "Espresso : $1.50\n",
      "Americano : $2.00\n",
      "Caffe latte : $2.25\n",
      "Mocha : $2.25\n",
      "Cappucino : $2.50\n",
      "Macchiato : $2.50\n",
      "\n",
      "Tea...\n",
      "White tea : $1.50\n",
      "Green tea : $2.00\n",
      "Oolong tea : $2.25\n",
      "Black tea : $2.25\n",
      "Earl Grey : $2.50\n",
      "Matcha : $2.50\n",
      "\n",
      "Pastries...\n",
      "Croissant : $5.50\n",
      "Cinnamon roll : $4.50\n",
      "Banana bread : $4.25\n",
      "Pumpkin bread : $3.75\n",
      "Sticky bun : $4.25\n",
      "Apple turnover : $3.75\n"
     ]
    }
   ],
   "source": [
    "def printMenu():\n",
    "    print(f\"\\nCoffee...\")\n",
    "    for i in coffee:\n",
    "        print(f\"{i} : ${(coffee[i]):.2f}\")\n",
    "    print(f\"\\nTea...\")\n",
    "    for i in tea:\n",
    "        print(f\"{i} : ${(tea[i]):.2f}\")  #print price as float with 2 digits! \n",
    "    print(f\"\\nPastries...\")\n",
    "    for i in pastries:\n",
    "        print(f\"{i} : ${(pastries[i]):.2f}\")\n",
    "printMenu()            \n",
    "    "
   ]
  },
  {
   "cell_type": "code",
   "execution_count": 12,
   "id": "476c730c",
   "metadata": {},
   "outputs": [],
   "source": [
    "def coffeePrices():\n",
    "    global price\n",
    "    if item == \"Espresso\" or \"espresso\":\n",
    "        price=coffee[\"Espresso\"] \n",
    "    elif item == \"Americano\" or \"americano\":\n",
    "        price = coffee[\"Americano\"] \n",
    "    elif item == \"Caffe latte\" or \"caffe latte\":\n",
    "        price = coffee[\"Caffe latte\"] \n",
    "    elif item == \"Mocha\" or \"mocha\":\n",
    "        price = coffee[\"Mocha\"]\n",
    "    elif item == \"Cappucino\" or \"cappucino\":\n",
    "        price = coffee[\"Cappucino\"] \n",
    "    else: \n",
    "        price = coffee[\"Macchiato\"] \n",
    "\n",
    "\n",
    "def teaPrices():\n",
    "    global price\n",
    "    if item == \"White tea\" or \"white tea\":\n",
    "        price = tea[\"White tea\"] \n",
    "    elif item == \"Green tea\" or \"green tea\":\n",
    "        price = tea[\"Green tea\"] \n",
    "    elif item == \"Oolong tea\" or \"oolong tea\":\n",
    "        price = tea[\"Oolon tea\"] \n",
    "    elif item == \"Black tea\" or \"black tea\":\n",
    "        price = tea[\"Black tea\"]\n",
    "    elif item == \"Earl Grey\" or \"earl grey\":\n",
    "        price = tea[\"Earl Grey\"] \n",
    "    else: \n",
    "        price = tea[\"Matcha\"] \n",
    "\n",
    "\n",
    "def pastryPrices():\n",
    "    global price\n",
    "    if item == \"Croissant\" or \"croissant\":\n",
    "        price = pastries[\"Croissant\"] \n",
    "    elif item == \"Cinnamon roll\" or \"cinnamon roll\":\n",
    "        price = pastries[\"Cinnamon roll\"] \n",
    "    elif item == \"Banana bread\" or \"banana bread\":\n",
    "        price = pastries[\"Banana bread\"] \n",
    "    elif item == \"Pumpkin bread\" or \"pumpkin bread\":\n",
    "        price = pastries[\"Pumpkin bread\"]\n",
    "    elif item == \"Sticky bun\" or \"sticky bun\":\n",
    "        price = pastries[\"Sticky bun\"] \n",
    "    else: \n",
    "        price = pastries[\"Apple turnover\"] \n"
   ]
  },
  {
   "cell_type": "code",
   "execution_count": 8,
   "id": "2e463ee5",
   "metadata": {},
   "outputs": [
    {
     "name": "stdout",
     "output_type": "stream",
     "text": [
      "Welcome to MC Cafe!\n",
      "***********\n",
      "Would you like you like to see the menu? (yes/no)yes\n",
      "\n",
      "Coffee...\n",
      "Espresso : $1.50\n",
      "Americano : $2.00\n",
      "Caffe latte : $2.25\n",
      "Mocha : $2.25\n",
      "Cappucino : $2.50\n",
      "Macchiato : $2.50\n",
      "\n",
      "Tea...\n",
      "White tea : $1.50\n",
      "Green tea : $2.00\n",
      "Oolong tea : $2.25\n",
      "Black tea : $2.25\n",
      "Earl Grey : $2.50\n",
      "Matcha : $2.50\n",
      "\n",
      "Pastries...\n",
      "Croissant : $5.50\n",
      "Cinnamon roll : $4.50\n",
      "Banana bread : $4.25\n",
      "Pumpkin bread : $3.75\n",
      "Sticky bun : $4.25\n",
      "Apple turnover : $3.75\n"
     ]
    }
   ],
   "source": [
    "def mcCafe():\n",
    "    print(\"Welcome to MC Cafe!\\n***********\")\n",
    "    see_menu=\"yes\"\n",
    "    see_menu=input(\"Would you like you like to see the menu? (yes/no)\")\n",
    "    if see_menu == \"yes\": \n",
    "        printMenu()\n",
    "    else:\n",
    "        print(\"...\")\n",
    "    \n",
    "mcCafe()\n",
    "    \n",
    "\n",
    "    "
   ]
  },
  {
   "cell_type": "code",
   "execution_count": 13,
   "id": "478a03f5",
   "metadata": {},
   "outputs": [
    {
     "name": "stdout",
     "output_type": "stream",
     "text": [
      "Would you like to order? (yes/no)yes\n",
      "Would you like coffee, tea, or pastries? coffee\n",
      "Which coffee would you like? Americano\n",
      "How many would you like?1\n"
     ]
    },
    {
     "ename": "NameError",
     "evalue": "name 'item' is not defined",
     "output_type": "error",
     "traceback": [
      "\u001b[1;31m---------------------------------------------------------------------------\u001b[0m",
      "\u001b[1;31mNameError\u001b[0m                                 Traceback (most recent call last)",
      "\u001b[1;32m~\\AppData\\Local\\Temp/ipykernel_24356/3187872251.py\u001b[0m in \u001b[0;36m<module>\u001b[1;34m\u001b[0m\n\u001b[0;32m     50\u001b[0m         \u001b[0mprint\u001b[0m\u001b[1;33m(\u001b[0m\u001b[1;34mf\"Here is the receipt. The total will be\"\u001b[0m\u001b[1;33m)\u001b[0m\u001b[1;33m\u001b[0m\u001b[1;33m\u001b[0m\u001b[0m\n\u001b[0;32m     51\u001b[0m         \u001b[0mprint\u001b[0m\u001b[1;33m(\u001b[0m\u001b[1;34m\"Goodbye!\"\u001b[0m\u001b[1;33m)\u001b[0m\u001b[1;33m\u001b[0m\u001b[1;33m\u001b[0m\u001b[0m\n\u001b[1;32m---> 52\u001b[1;33m \u001b[0morder\u001b[0m\u001b[1;33m(\u001b[0m\u001b[1;33m)\u001b[0m\u001b[1;33m\u001b[0m\u001b[1;33m\u001b[0m\u001b[0m\n\u001b[0m",
      "\u001b[1;32m~\\AppData\\Local\\Temp/ipykernel_24356/3187872251.py\u001b[0m in \u001b[0;36morder\u001b[1;34m()\u001b[0m\n\u001b[0;32m     13\u001b[0m             \u001b[0mitem\u001b[0m\u001b[1;33m=\u001b[0m\u001b[0minput\u001b[0m\u001b[1;33m(\u001b[0m\u001b[1;34m\"Which coffee would you like? \"\u001b[0m\u001b[1;33m)\u001b[0m \u001b[1;31m#from this item, call the price and set it as a new variable\u001b[0m\u001b[1;33m\u001b[0m\u001b[1;33m\u001b[0m\u001b[0m\n\u001b[0;32m     14\u001b[0m             \u001b[0mquantity\u001b[0m \u001b[1;33m=\u001b[0m \u001b[0mint\u001b[0m\u001b[1;33m(\u001b[0m\u001b[0minput\u001b[0m\u001b[1;33m(\u001b[0m\u001b[1;34m\"How many would you like?\"\u001b[0m \u001b[1;33m)\u001b[0m\u001b[1;33m)\u001b[0m\u001b[1;33m\u001b[0m\u001b[1;33m\u001b[0m\u001b[0m\n\u001b[1;32m---> 15\u001b[1;33m             \u001b[0mcoffeePrices\u001b[0m\u001b[1;33m(\u001b[0m\u001b[1;33m)\u001b[0m\u001b[1;33m\u001b[0m\u001b[1;33m\u001b[0m\u001b[0m\n\u001b[0m\u001b[0;32m     16\u001b[0m             \u001b[0mitemsList\u001b[0m\u001b[1;33m.\u001b[0m\u001b[0mappend\u001b[0m\u001b[1;33m(\u001b[0m\u001b[0mitem\u001b[0m\u001b[1;33m)\u001b[0m\u001b[1;33m\u001b[0m\u001b[1;33m\u001b[0m\u001b[0m\n\u001b[0;32m     17\u001b[0m             \u001b[0mquantityList\u001b[0m\u001b[1;33m.\u001b[0m\u001b[0mappend\u001b[0m\u001b[1;33m(\u001b[0m\u001b[0mquantity\u001b[0m\u001b[1;33m)\u001b[0m\u001b[1;33m\u001b[0m\u001b[1;33m\u001b[0m\u001b[0m\n",
      "\u001b[1;32m~\\AppData\\Local\\Temp/ipykernel_24356/1462373606.py\u001b[0m in \u001b[0;36mcoffeePrices\u001b[1;34m()\u001b[0m\n\u001b[0;32m      1\u001b[0m \u001b[1;32mdef\u001b[0m \u001b[0mcoffeePrices\u001b[0m\u001b[1;33m(\u001b[0m\u001b[1;33m)\u001b[0m\u001b[1;33m:\u001b[0m\u001b[1;33m\u001b[0m\u001b[1;33m\u001b[0m\u001b[0m\n\u001b[0;32m      2\u001b[0m     \u001b[1;32mglobal\u001b[0m \u001b[0mprice\u001b[0m\u001b[1;33m\u001b[0m\u001b[1;33m\u001b[0m\u001b[0m\n\u001b[1;32m----> 3\u001b[1;33m     \u001b[1;32mif\u001b[0m \u001b[0mitem\u001b[0m \u001b[1;33m==\u001b[0m \u001b[1;34m\"Espresso\"\u001b[0m \u001b[1;32mor\u001b[0m \u001b[1;34m\"espresso\"\u001b[0m\u001b[1;33m:\u001b[0m\u001b[1;33m\u001b[0m\u001b[1;33m\u001b[0m\u001b[0m\n\u001b[0m\u001b[0;32m      4\u001b[0m         \u001b[0mprice\u001b[0m\u001b[1;33m=\u001b[0m\u001b[0mcoffee\u001b[0m\u001b[1;33m[\u001b[0m\u001b[1;34m\"Espresso\"\u001b[0m\u001b[1;33m]\u001b[0m\u001b[1;33m\u001b[0m\u001b[1;33m\u001b[0m\u001b[0m\n\u001b[0;32m      5\u001b[0m     \u001b[1;32melif\u001b[0m \u001b[0mitem\u001b[0m \u001b[1;33m==\u001b[0m \u001b[1;34m\"Americano\"\u001b[0m \u001b[1;32mor\u001b[0m \u001b[1;34m\"americano\"\u001b[0m\u001b[1;33m:\u001b[0m\u001b[1;33m\u001b[0m\u001b[1;33m\u001b[0m\u001b[0m\n",
      "\u001b[1;31mNameError\u001b[0m: name 'item' is not defined"
     ]
    }
   ],
   "source": [
    "def order():\n",
    "    global itemsList\n",
    "    global quantityList\n",
    "    global pricesList\n",
    "    pricesList = [] #this will be a list of lists! list of all the items ordered the, quantity, and price\n",
    "    itemsList=[]\n",
    "    quantityList=[]\n",
    "    order = input(\"Would you like to order? (yes/no)\")\n",
    "    answer = \"yes\" \n",
    "    while order == \"yes\":\n",
    "        which = input(\"Would you like coffee, tea, or pastries? \")\n",
    "        if which == \"coffee\": \n",
    "            item=input(\"Which coffee would you like? \") #from this item, call the price and set it as a new variable\n",
    "            quantity = int(input(\"How many would you like?\" ))\n",
    "            coffeePrices()\n",
    "            itemsList.append(item)\n",
    "            quantityList.append(quantity)\n",
    "            pricesList.append(price)\n",
    "            order=input(\"Would you like anything else? (yes/no)\" )\n",
    "        elif which == \"tea\":\n",
    "            item = input(\"Which tea would you like? \")\n",
    "            quantity = int(input(\"How many would you like? \"))\n",
    "            teaPrices()\n",
    "            itemsList.append(item)\n",
    "            quantityList.append(quantity)\n",
    "            pricesList.append(price)\n",
    "            order=input(\"Would you like anything else? (yes/no) \")\n",
    "        elif which == \"pastries\":\n",
    "            item = input(\"Which pastry would you like? \")\n",
    "            quantity = int(input(\"How many would you like? \"))\n",
    "            pastryPrices()\n",
    "            itemsList.append(item)\n",
    "            quantityList.append(quantity)\n",
    "            pricesList.append(price)\n",
    "            order=input(\"Would you like anything else? (yes/no) \")\n",
    "        else:\n",
    "            print(\"Sorry, I didn't catch that! Say that again: \")\n",
    "            order == \"yes\"\n",
    "        \n",
    "    \n",
    "        \n",
    "    else:\n",
    "        print(f\"Items:{itemsList}\")\n",
    "        print(f\"Quantities:{quantityList}\")\n",
    "        print(f\"Prices:{pricesList}\")      \n",
    "        print(f\"Here is the receipt. The total will be\")\n",
    "        print(\"Goodbye!\")\n",
    "order()"
   ]
  },
  {
   "cell_type": "code",
   "execution_count": 10,
   "id": "88cb6bef",
   "metadata": {},
   "outputs": [],
   "source": [
    "def receipt():\n",
    "    i=0\n",
    "    totalNoTax = []\n",
    "    totalTax = []\n",
    "    totalWithTax = []\n",
    "    \n",
    "    for item in itemsList:\n",
    "        a = quantityList[i]\n",
    "        b= pricesList[i]\n",
    "        priceofitem = a*b\n",
    "        tax = priceofitem * 0.06\n",
    "        total = priceofitem + tax\n",
    "        i+=1\n",
    "    \n",
    "    for item in range(0,len(totalNoTax)):\n",
    "        global sumNoTax\n",
    "        sumNoTax = sumNoTax + totalNoTax[i]\n",
    "        print(f\"The total before tax is ${(sumNoTax):.2f}.\")\n",
    "        \n",
    "    for item in range(0,len(totalTax)):\n",
    "        global sumTax\n",
    "        sumTax = sumTax + totalTax[i]\n",
    "        print(f\"The total tax amount is ${(sumTax):.2f}\")\n",
    "    \n",
    "    for item in range(0,len(totalWithTax)):\n",
    "        global sumWithTax\n",
    "        sumWithTax = sumWithTax + totalWithTax[i]\n",
    "        print(f\"The total amount you owe is ${(sumWithTax):.2f}\")\n",
    "    \n",
    "    \n",
    "receipt()"
   ]
  },
  {
   "cell_type": "markdown",
   "id": "f9e493e7",
   "metadata": {},
   "source": []
  }
 ],
 "metadata": {
  "kernelspec": {
   "display_name": "Python 3 (ipykernel)",
   "language": "python",
   "name": "python3"
  },
  "language_info": {
   "codemirror_mode": {
    "name": "ipython",
    "version": 3
   },
   "file_extension": ".py",
   "mimetype": "text/x-python",
   "name": "python",
   "nbconvert_exporter": "python",
   "pygments_lexer": "ipython3",
   "version": "3.9.7"
  }
 },
 "nbformat": 4,
 "nbformat_minor": 5
}
